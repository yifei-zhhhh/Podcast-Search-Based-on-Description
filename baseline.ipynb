{
 "cells": [
  {
   "cell_type": "code",
   "execution_count": 1,
   "id": "9a9a47d7",
   "metadata": {},
   "outputs": [
    {
     "name": "stderr",
     "output_type": "stream",
     "text": [
      "PyTerrier 0.9.1 has loaded Terrier 5.7 (built by craigm on 2022-11-10 18:30) and terrier-helper 0.0.7\n",
      "\n",
      "No etc/terrier.properties, using terrier.default.properties for bootstrap configuration.\n"
     ]
    },
    {
     "name": "stdout",
     "output_type": "stream",
     "text": [
      "Better speed can be achieved with apex installed from https://www.github.com/nvidia/apex.\n"
     ]
    }
   ],
   "source": [
    "import pyterrier as pt\n",
    "if not pt.started():\n",
    "    pt.init(tqdm='notebook')\n",
    "import onir_pt\n",
    "import pyterrier_doc2query\n",
    "import os\n",
    "import pandas as pd"
   ]
  },
  {
   "cell_type": "code",
   "execution_count": 2,
   "id": "3accb381",
   "metadata": {},
   "outputs": [
    {
     "name": "stdout",
     "output_type": "stream",
     "text": [
      "<class 'pandas.core.frame.DataFrame'>\n",
      "RangeIndex: 4266 entries, 0 to 4265\n",
      "Data columns (total 6 columns):\n",
      " #   Column       Non-Null Count  Dtype  \n",
      "---  ------       --------------  -----  \n",
      " 0   docno        4266 non-null   object \n",
      " 1   title        4266 non-null   object \n",
      " 2   description  4266 non-null   object \n",
      " 3   genre        4266 non-null   object \n",
      " 4   rating       4266 non-null   float64\n",
      " 5   num_reviews  4266 non-null   int64  \n",
      "dtypes: float64(1), int64(1), object(4)\n",
      "memory usage: 200.1+ KB\n"
     ]
    },
    {
     "data": {
      "text/html": [
       "<div>\n",
       "<style scoped>\n",
       "    .dataframe tbody tr th:only-of-type {\n",
       "        vertical-align: middle;\n",
       "    }\n",
       "\n",
       "    .dataframe tbody tr th {\n",
       "        vertical-align: top;\n",
       "    }\n",
       "\n",
       "    .dataframe thead th {\n",
       "        text-align: right;\n",
       "    }\n",
       "</style>\n",
       "<table border=\"1\" class=\"dataframe\">\n",
       "  <thead>\n",
       "    <tr style=\"text-align: right;\">\n",
       "      <th></th>\n",
       "      <th>docno</th>\n",
       "      <th>description</th>\n",
       "    </tr>\n",
       "  </thead>\n",
       "  <tbody>\n",
       "    <tr>\n",
       "      <th>0</th>\n",
       "      <td>ug7v899j</td>\n",
       "      <td>In a culture trying to sell us the lie that we...</td>\n",
       "    </tr>\n",
       "    <tr>\n",
       "      <th>1</th>\n",
       "      <td>02tnwd4m</td>\n",
       "      <td>Welcome to the Vortex Nation Podcast. Brought ...</td>\n",
       "    </tr>\n",
       "    <tr>\n",
       "      <th>2</th>\n",
       "      <td>ejv2xln0</td>\n",
       "      <td>Greg Laurie delivers compelling, practical ins...</td>\n",
       "    </tr>\n",
       "    <tr>\n",
       "      <th>3</th>\n",
       "      <td>2b73a28n</td>\n",
       "      <td>The Amelia Project is a secret agency that fak...</td>\n",
       "    </tr>\n",
       "    <tr>\n",
       "      <th>4</th>\n",
       "      <td>9785vg6d</td>\n",
       "      <td>Join Rob Zacny, Natalie Watson, Ali Acampora, ...</td>\n",
       "    </tr>\n",
       "  </tbody>\n",
       "</table>\n",
       "</div>"
      ],
      "text/plain": [
       "      docno                                        description\n",
       "0  ug7v899j  In a culture trying to sell us the lie that we...\n",
       "1  02tnwd4m  Welcome to the Vortex Nation Podcast. Brought ...\n",
       "2  ejv2xln0  Greg Laurie delivers compelling, practical ins...\n",
       "3  2b73a28n  The Amelia Project is a secret agency that fak...\n",
       "4  9785vg6d  Join Rob Zacny, Natalie Watson, Ali Acampora, ..."
      ]
     },
     "execution_count": 2,
     "metadata": {},
     "output_type": "execute_result"
    }
   ],
   "source": [
    "rank_cutoff = 30\n",
    "data = pd.read_csv('document.csv')\n",
    "data.info()\n",
    "data['docno'] = data.docno.astype(str)\n",
    "data = data[['docno', 'description']]\n",
    "data.head()"
   ]
  },
  {
   "cell_type": "code",
   "execution_count": 3,
   "id": "908809a7",
   "metadata": {},
   "outputs": [
    {
     "name": "stderr",
     "output_type": "stream",
     "text": [
      "/Users/yifeizhang/opt/anaconda3/lib/python3.9/site-packages/pyterrier/index.py:621: FutureWarning: iteritems is deprecated and will be removed in a future version. Use .items instead.\n",
      "  for column, value in meta_column[1].iteritems():\n"
     ]
    },
    {
     "name": "stdout",
     "output_type": "stream",
     "text": [
      "19:39:33.513 [main] WARN org.terrier.structures.indexing.Indexer - Adding an empty document to the index (x80cs5bc) - further warnings are suppressed\n",
      "19:39:36.333 [main] WARN org.terrier.structures.indexing.Indexer - Indexed 2 empty documents\n",
      "Number of documents: 4266\n",
      "Number of terms: 17506\n",
      "Number of postings: 151825\n",
      "Number of fields: 0\n",
      "Number of tokens: 178247\n",
      "Field names: []\n",
      "Positions:   true\n",
      "\n"
     ]
    }
   ],
   "source": [
    "indexer = pt.DFIndexer(\"./pd_base_index\", overwrite=True, blocks=True)\n",
    "index_ref = indexer.index(data[\"description\"], data[\"docno\"],)\n",
    "index = pt.IndexFactory.of(index_ref)\n",
    "print(index.getCollectionStatistics().toString())"
   ]
  },
  {
   "cell_type": "code",
   "execution_count": 4,
   "id": "12ac9d60",
   "metadata": {},
   "outputs": [],
   "source": [
    "topics = pd.read_csv('topics.csv') \n",
    "topics['qid'] = topics.qid.astype('str')\n",
    "qrels = pd.read_csv('qrels.csv') \n",
    "qrels['qid'] = qrels.qid.astype(str)\n",
    "qrels['docno'] = qrels.docno.astype(str)\n"
   ]
  },
  {
   "cell_type": "code",
   "execution_count": 5,
   "id": "18acad13",
   "metadata": {},
   "outputs": [],
   "source": [
    "import random\n",
    "def random_score(keyFreq, posting, entryStats, collStats):\n",
    "    import numpy as np\n",
    "    return np.random.randn(1)[0]\n",
    "random = pt.BatchRetrieve(index, wmodel=random_score)"
   ]
  },
  {
   "cell_type": "code",
   "execution_count": 6,
   "id": "4824224a",
   "metadata": {},
   "outputs": [
    {
     "data": {
      "text/html": [
       "<div>\n",
       "<style scoped>\n",
       "    .dataframe tbody tr th:only-of-type {\n",
       "        vertical-align: middle;\n",
       "    }\n",
       "\n",
       "    .dataframe tbody tr th {\n",
       "        vertical-align: top;\n",
       "    }\n",
       "\n",
       "    .dataframe thead th {\n",
       "        text-align: right;\n",
       "    }\n",
       "</style>\n",
       "<table border=\"1\" class=\"dataframe\">\n",
       "  <thead>\n",
       "    <tr style=\"text-align: right;\">\n",
       "      <th></th>\n",
       "      <th>name</th>\n",
       "      <th>map</th>\n",
       "      <th>ndcg</th>\n",
       "      <th>ndcg_cut_5</th>\n",
       "      <th>ndcg_cut_10</th>\n",
       "    </tr>\n",
       "  </thead>\n",
       "  <tbody>\n",
       "    <tr>\n",
       "      <th>0</th>\n",
       "      <td>BR(TF_IDF)</td>\n",
       "      <td>0.367018</td>\n",
       "      <td>0.669108</td>\n",
       "      <td>0.702028</td>\n",
       "      <td>0.710234</td>\n",
       "    </tr>\n",
       "    <tr>\n",
       "      <th>1</th>\n",
       "      <td>BR(BM25)</td>\n",
       "      <td>0.373931</td>\n",
       "      <td>0.671245</td>\n",
       "      <td>0.690518</td>\n",
       "      <td>0.705602</td>\n",
       "    </tr>\n",
       "    <tr>\n",
       "      <th>2</th>\n",
       "      <td>BR(DPH)</td>\n",
       "      <td>0.165839</td>\n",
       "      <td>0.483323</td>\n",
       "      <td>0.162697</td>\n",
       "      <td>0.170968</td>\n",
       "    </tr>\n",
       "  </tbody>\n",
       "</table>\n",
       "</div>"
      ],
      "text/plain": [
       "         name       map      ndcg  ndcg_cut_5  ndcg_cut_10\n",
       "0  BR(TF_IDF)  0.367018  0.669108    0.702028     0.710234\n",
       "1    BR(BM25)  0.373931  0.671245    0.690518     0.705602\n",
       "2     BR(DPH)  0.165839  0.483323    0.162697     0.170968"
      ]
     },
     "execution_count": 6,
     "metadata": {},
     "output_type": "execute_result"
    }
   ],
   "source": [
    "bm25 = pt.BatchRetrieve(index, wmodel=\"BM25\")\n",
    "tf_idf = pt.BatchRetrieve(index, wmodel=\"TF_IDF\")\n",
    "pt.Experiment(\n",
    "    [tf_idf, bm25, random],\n",
    "    topics,\n",
    "    qrels,\n",
    "    eval_metrics=[\"map\", \"ndcg\",\"ndcg_cut_5\", \"ndcg_cut_10\"])"
   ]
  },
  {
   "cell_type": "code",
   "execution_count": 7,
   "id": "4790cc58",
   "metadata": {},
   "outputs": [
    {
     "data": {
      "text/html": [
       "<div>\n",
       "<style scoped>\n",
       "    .dataframe tbody tr th:only-of-type {\n",
       "        vertical-align: middle;\n",
       "    }\n",
       "\n",
       "    .dataframe tbody tr th {\n",
       "        vertical-align: top;\n",
       "    }\n",
       "\n",
       "    .dataframe thead th {\n",
       "        text-align: right;\n",
       "    }\n",
       "</style>\n",
       "<table border=\"1\" class=\"dataframe\">\n",
       "  <thead>\n",
       "    <tr style=\"text-align: right;\">\n",
       "      <th></th>\n",
       "      <th>name</th>\n",
       "      <th>map</th>\n",
       "      <th>ndcg</th>\n",
       "      <th>ndcg_cut_5</th>\n",
       "      <th>ndcg_cut_10</th>\n",
       "    </tr>\n",
       "  </thead>\n",
       "  <tbody>\n",
       "    <tr>\n",
       "      <th>0</th>\n",
       "      <td>RankCutoff(BR(TF_IDF), 30)</td>\n",
       "      <td>0.288072</td>\n",
       "      <td>0.456875</td>\n",
       "      <td>0.702028</td>\n",
       "      <td>0.710234</td>\n",
       "    </tr>\n",
       "    <tr>\n",
       "      <th>1</th>\n",
       "      <td>RankCutoff(BR(BM25), 30)</td>\n",
       "      <td>0.301524</td>\n",
       "      <td>0.470172</td>\n",
       "      <td>0.690518</td>\n",
       "      <td>0.705602</td>\n",
       "    </tr>\n",
       "    <tr>\n",
       "      <th>2</th>\n",
       "      <td>RankCutoff(BR(DPH), 30)</td>\n",
       "      <td>0.038977</td>\n",
       "      <td>0.127632</td>\n",
       "      <td>0.228866</td>\n",
       "      <td>0.208940</td>\n",
       "    </tr>\n",
       "  </tbody>\n",
       "</table>\n",
       "</div>"
      ],
      "text/plain": [
       "                         name       map      ndcg  ndcg_cut_5  ndcg_cut_10\n",
       "0  RankCutoff(BR(TF_IDF), 30)  0.288072  0.456875    0.702028     0.710234\n",
       "1    RankCutoff(BR(BM25), 30)  0.301524  0.470172    0.690518     0.705602\n",
       "2     RankCutoff(BR(DPH), 30)  0.038977  0.127632    0.228866     0.208940"
      ]
     },
     "execution_count": 7,
     "metadata": {},
     "output_type": "execute_result"
    }
   ],
   "source": [
    "# after rankoff, when comparing the new model to bm25 and tfidf, all the models will use the same rank cutoff\n",
    "\n",
    "pt.Experiment(\n",
    "    [tf_idf%rank_cutoff, bm25%rank_cutoff, random%rank_cutoff],\n",
    "    topics,\n",
    "    qrels,\n",
    "    eval_metrics=[\"map\", \"ndcg\",\"ndcg_cut_5\", \"ndcg_cut_10\"])"
   ]
  }
 ],
 "metadata": {
  "kernelspec": {
   "display_name": "Python 3 (ipykernel)",
   "language": "python",
   "name": "python3"
  },
  "language_info": {
   "codemirror_mode": {
    "name": "ipython",
    "version": 3
   },
   "file_extension": ".py",
   "mimetype": "text/x-python",
   "name": "python",
   "nbconvert_exporter": "python",
   "pygments_lexer": "ipython3",
   "version": "3.9.7"
  }
 },
 "nbformat": 4,
 "nbformat_minor": 5
}
